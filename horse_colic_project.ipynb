{
  "cells": [
    {
      "cell_type": "markdown",
      "metadata": {
        "id": "SkhPx1n5KG7i"
      },
      "source": [
        "## **Predicting Horse Colic Survival: A Machine Learning Approach for Early Intervention**\n",
        "### 6/16/23"
      ]
    },
    {
      "cell_type": "markdown",
      "metadata": {
        "id": "b8UtmgM6KG7l"
      },
      "source": [
        "**X23 Group 15 Members**:\n",
        "- Andrew Kassis\n",
        "- Christian Vargas\n",
        "- Deniz Erisgen\n",
        "- Tiffany Andersen"
      ]
    },
    {
      "cell_type": "markdown",
      "metadata": {
        "id": "Bor8Hq8qPlYZ"
      },
      "source": [
        "This data science project leverages historical medical records to effectively determine the survival probability of horses with colic by utilizing predictive models that evaluate the likelihood of their survival, taking into account past medical conditions."
      ]
    },
    {
      "cell_type": "code",
      "execution_count": null,
      "metadata": {
        "id": "U-hFq7atKG7l",
        "colab": {
          "base_uri": "https://localhost:8080/",
          "height": 326
        },
        "outputId": "b3037da2-17b6-4397-c47a-ec6fc095bd23"
      },
      "outputs": [
        {
          "output_type": "execute_result",
          "data": {
            "text/html": [
              "<img src=\"https://www.animalclinicfortlupton.com/uploads/5/7/6/2/57623911/colicrxhorse-with-gi-diagram_orig.jpg\"/>"
            ],
            "text/plain": [
              "<IPython.core.display.Image object>"
            ]
          },
          "metadata": {},
          "execution_count": 161
        }
      ],
      "source": [
        "from IPython.display import Image\n",
        "from IPython.core.display import HTML\n",
        "Image(url= \"https://www.animalclinicfortlupton.com/uploads/5/7/6/2/57623911/colicrxhorse-with-gi-diagram_orig.jpg\")\n",
        "# Animal Clinic, LLC \"Colic Diagnosis\" photo source  : https://www.animalclinicfortlupton.com/colic-diagnosis.html"
      ]
    },
    {
      "cell_type": "markdown",
      "metadata": {
        "id": "KGmXkAHfKG7m"
      },
      "source": [
        "**Objective**\n",
        "\n",
        "To develop a predictive model capable of estimating the probability of survival for horses affected by colic. This project aims to provide valuable insights to veterinarians and horse owners, enabling them to make well-informed decisions regarding treatment options and care. Furthermore, the objective involves conducting an in-depth analysis to identify the most influential features or attributes for accurately predicting colic occurrences."
      ]
    },
    {
      "cell_type": "markdown",
      "metadata": {
        "id": "lqG8Gks7KG7m"
      },
      "source": [
        "### Initial Exploration"
      ]
    },
    {
      "cell_type": "code",
      "execution_count": null,
      "metadata": {
        "id": "wqavZz_GKG7n"
      },
      "outputs": [],
      "source": [
        "import warnings\n",
        "# Ignore the warning\n",
        "warnings.filterwarnings(\"ignore\")"
      ]
    },
    {
      "cell_type": "code",
      "execution_count": null,
      "metadata": {
        "id": "8fLpqRahKG7n"
      },
      "outputs": [],
      "source": [
        "import numpy as np\n",
        "import pandas as pd\n",
        "import matplotlib.pyplot as plt\n",
        "import seaborn as sns\n",
        "from sklearn.model_selection import train_test_split, GridSearchCV\n",
        "from sklearn.model_selection import cross_val_score\n",
        "from sklearn.linear_model import LogisticRegression\n",
        "from sklearn.tree import DecisionTreeClassifier, export_graphviz\n",
        "from sklearn.ensemble import RandomForestClassifier\n",
        "from sklearn.metrics import accuracy_score, confusion_matrix, classification_report\n",
        "from sklearn.metrics import mean_squared_error\n",
        "from sklearn.preprocessing import StandardScaler\n",
        "from sklearn.neighbors import KNeighborsClassifier\n",
        "from sklearn.model_selection import learning_curve\n",
        "import graphviz"
      ]
    },
    {
      "cell_type": "markdown",
      "metadata": {
        "id": "-yCC-eNWfCmR"
      },
      "source": [
        "**Read Data**"
      ]
    },
    {
      "cell_type": "code",
      "execution_count": null,
      "metadata": {
        "id": "wu08qOeMKG7n"
      },
      "outputs": [],
      "source": [
        "# Load the dataset and test dataset from the provided link\n",
        "# Training data\n",
        "url = 'https://raw.githubusercontent.com/c-vargas/horse_colic_data/main/horse_colic.csv'\n",
        "df = pd.read_csv(url)\n",
        "# Testing data\n",
        "url2 = 'https://raw.githubusercontent.com/c-vargas/horse_colic_data/main/horse_test_data.csv'\n",
        "test = pd.read_csv(url2)"
      ]
    },
    {
      "cell_type": "markdown",
      "metadata": {
        "id": "6UCPPGFLAhHQ"
      },
      "source": [
        "**Data Fields Documentation**\n",
        "\n",
        "Please refer to the descriptions for each attribute at the following location:\n",
        "[UCI Machine Learning Repository: Horse Colic Data Set](https://archive.ics.uci.edu/ml/datasets/Horse+Colic)"
      ]
    },
    {
      "cell_type": "markdown",
      "metadata": {
        "id": "vd9-oyTOf_dB"
      },
      "source": [
        "**Data Fields**\n",
        "\n",
        "1. surgery? (whether the horse was treated for surgery (1 = Yes, 2 = No)\n",
        "\n",
        "2. Age (Age of horse at time of vet visit) (1 = Adult horse, 2 = Young (< 6 months))\n",
        "\n",
        "3. Hospital Number (Unique numeric id number, unless the horse was treated > 1 time)\n",
        "\n",
        "4. rectal temperature (Celsius) (An an elevated temp may occur due to infection)\n",
        "\n",
        "5. pulse (The heart rate in beats per minute, which is normally around 30-40 for adults, may be elevated in animals experiencing painful lesions or circulatory shock)\n",
        "\n",
        "6. respiratory rate (Normal rate is 8 to 10)\n",
        "\n",
        "7. temperature of extremities (1 = Normal, 2 = Warm, 3 = Cool, 4 = Cold) (Cool to cold extremities indicate possible shock, while hot extremities should correlate with an elevated rectal temperature)\n",
        "\n",
        "8. peripheral pulse (1 = normal, 2 = increased, 3 = reduced, 4 = absent) (Normal or increased peripheral pulses are indicative of adequate circulation, while reduced or absent pulses indicate poor perfusion)\n",
        "\n",
        "9. mucous membranes (1 = normal pink, 2 = bright pink, 3 = pale pink, 4 = pale cyanotic, 5 = bright red / injected, 6 = dark cyanotic) (1 and 2 probably indicate a normal or slightly increased circulation. 3 may occur in early shock. 4 and 6 are indicative of serious circulatory compromise. 5 is more indicative of a septicemia)\n",
        "\n",
        "10. capillary refill time (The longer the refill, the poorer the circulation possible values) (1 = < 3 seconds, 2 = >= 3 seconds)\n",
        "\n",
        "11. pain - (A subjective judgement of the horse's pain level and the more painful a condition is, the more likely it is to require surgery) (1 = alert, no pain, 2 = depressed, 3 = intermittent mild pain, 4 = intermittent severe pain, 5 = continuous severe pain)\n",
        "\n",
        "12. peristalsis (The gut activity in a horse decreases as it becomes more distended or toxic) (1 = hypermotile, 2 = normal, 3 = hypomotile, 4 = absent)\n",
        "\n",
        "13. abdominal distension (A horse experiencing severe abdominal distension is likely to require surgery due to the pain caused by reduced gut motility) (1 = none, 2 = slight, 3 = moderate, 4 = severe)\n",
        "\n",
        "14. nasogastric tube (If gas is released from the tube, which acts as a large gas cap in the horse's stomach, it is expected that the horse will feel discomfort) (1 = none, 2 = slight, 3 = significant)\n",
        "\n",
        "15. nasogastric reflux (As the amount of reflux increases, the likelihood of a significant obstruction to the passage of fluid from the rest of the intestine also increases) (1 = none , 2 = > 1 liter, 3 = < 1 liter)\n",
        "\n",
        "16. nasogastric reflux PH (Scale is from 0 to 14 with 7 being neutral) (Normal values are in the 3 to 4 range)\n",
        "\n",
        "17. rectal examination - feces (No stool or bowel movement present may indicate obstruction in the digestive system) (1 = normal, 2 = increased, 3 = decreased, 4 = absent)\n",
        "\n",
        "18. abdomen (Condition or appearance of the abdomen, in which a value like 3 might indicate a form of obstruction, while values of 4 and 5 could suggest a surgical lesion) (1 = normal, 2 = other, 3 = firm feces in the large intestine, 4 = distended small intestine, 5 = distended large intestine)\n",
        "\n",
        "19. packed cell volume (The normal range for the number of red blood cells per volume in the blood is usually between 30 and 50. However, if there are circulation issues or if the animal becomes dehydrated, the value can exceed this range)\n",
        "\n",
        "20. total protein (Normal values typically range from 6 to 7.5 gms/dL, and higher values indicate more severe dehydration)\n",
        "\n",
        "21. abdominocentesis appearance (Clear fluid in the abdominal cavity indicates normal appearance, while cloudy or serosanguinous indicates a compromised gut) (1 = clear, 2 = cloudy, 3 = serosanguinous)\n",
        "\n",
        "22. abdomcentesis total protein (Values are in gms/dL, higher the level of protein the more likely the horse is to have a compromised gut)\n",
        "\n",
        "23. outcome (Outcome for the horse) (1 = lived, 2 = died, 3 = was euthanized)\n",
        "\n",
        "24. surgical lesion? (1 = Yes, 2 = No)\n",
        "\n",
        "25. type of lesion\n",
        "26. type of lesion\n",
        "27. type of lesion\n",
        "- first number is site of lesion\n",
        "- second number is type\n",
        "- third number is subtype\n",
        "- fourth number is specific code\n",
        "\n",
        "28. cp_data (Whether pathology data present for this case?) (1 = Yes, 2 = No)"
      ]
    },
    {
      "cell_type": "code",
      "execution_count": null,
      "metadata": {
        "id": "pYe5Br7HKG7n",
        "colab": {
          "base_uri": "https://localhost:8080/"
        },
        "outputId": "75b36372-ff8c-47ca-dfbb-d67370f6a00c"
      },
      "outputs": [
        {
          "output_type": "stream",
          "name": "stdout",
          "text": [
            "Data Size: (299, 28)\n",
            "Test data Size: (89, 28)\n"
          ]
        }
      ],
      "source": [
        "# Check the size of the dataset\n",
        "data_size = df.shape\n",
        "print(\"Data Size:\", data_size)\n",
        "test_size = test.shape\n",
        "print(\"Test data Size:\", test_size)"
      ]
    },
    {
      "cell_type": "code",
      "source": [
        "# Return the first 10 rows of data\n",
        "print(df.head(10))"
      ],
      "metadata": {
        "id": "0yV7kYpJLXAZ",
        "colab": {
          "base_uri": "https://localhost:8080/"
        },
        "outputId": "3ebf1168-c217-4ddb-f366-6f202b0733f4"
      },
      "execution_count": null,
      "outputs": [
        {
          "output_type": "stream",
          "name": "stdout",
          "text": [
            "  surgery    age  hospital_number  rectal_temp  pulse  respiratory_rate  \\\n",
            "0      no  adult           530101         38.5   66.0              28.0   \n",
            "1     yes  adult           534817         39.2   88.0              20.0   \n",
            "2      no  adult           530334         38.3   40.0              24.0   \n",
            "3     yes  young          5290409         39.1  164.0              84.0   \n",
            "4      no  adult           530255         37.3  104.0              35.0   \n",
            "5      no  adult           528355          NaN    NaN               NaN   \n",
            "6     yes  adult           526802         37.9   48.0              16.0   \n",
            "7     yes  adult           529607          NaN   60.0               NaN   \n",
            "8      no  adult           530051          NaN   80.0              36.0   \n",
            "9      no  young          5299629         38.3   90.0               NaN   \n",
            "\n",
            "  temp_of_extremities peripheral_pulse mucous_membrane capillary_refill_time  \\\n",
            "0                cool          reduced             NaN            more_3_sec   \n",
            "1                 NaN              NaN   pale_cyanotic            less_3_sec   \n",
            "2              normal           normal       pale_pink            less_3_sec   \n",
            "3                cold           normal   dark_cyanotic            more_3_sec   \n",
            "4                 NaN              NaN   dark_cyanotic            more_3_sec   \n",
            "5                warm           normal       pale_pink            less_3_sec   \n",
            "6              normal           normal     normal_pink            less_3_sec   \n",
            "7                cool              NaN             NaN            less_3_sec   \n",
            "8                cool           absent       pale_pink            less_3_sec   \n",
            "9              normal              NaN     normal_pink            less_3_sec   \n",
            "\n",
            "   ... packed_cell_volume total_protein abdomo_appearance abdomo_protein  \\\n",
            "0  ...               45.0           8.4               NaN            NaN   \n",
            "1  ...               50.0          85.0            cloudy            2.0   \n",
            "2  ...               33.0           6.7               NaN            NaN   \n",
            "3  ...               48.0           7.2     serosanguious            5.3   \n",
            "4  ...               74.0           7.4               NaN            NaN   \n",
            "5  ...                NaN           NaN               NaN            NaN   \n",
            "6  ...               37.0           7.0               NaN            NaN   \n",
            "7  ...               44.0           8.3               NaN            NaN   \n",
            "8  ...               38.0           6.2               NaN            NaN   \n",
            "9  ...               40.0           6.2             clear            2.2   \n",
            "\n",
            "      outcome  surgical_lesion lesion_1 lesion_2  lesion_3  cp_data  \n",
            "0        died               no    11300        0         0       no  \n",
            "1  euthanized               no     2208        0         0       no  \n",
            "2       lived               no        0        0         0      yes  \n",
            "3        died              yes     2208        0         0      yes  \n",
            "4        died               no     4300        0         0       no  \n",
            "5       lived               no        0        0         0       no  \n",
            "6       lived              yes     3124        0         0       no  \n",
            "7        died              yes     2208        0         0       no  \n",
            "8  euthanized              yes     3205        0         0       no  \n",
            "9       lived               no        0        0         0      yes  \n",
            "\n",
            "[10 rows x 28 columns]\n"
          ]
        }
      ]
    },
    {
      "cell_type": "code",
      "execution_count": null,
      "metadata": {
        "id": "OSpJUXgTKG7o",
        "colab": {
          "base_uri": "https://localhost:8080/"
        },
        "outputId": "9be0432f-976a-49f2-d9ef-2f83361f06e7"
      },
      "outputs": [
        {
          "output_type": "stream",
          "name": "stdout",
          "text": [
            "object     17\n",
            "float64     7\n",
            "int64       4\n",
            "dtype: int64\n"
          ]
        }
      ],
      "source": [
        "# Display the count of unique data types\n",
        "print(df.dtypes.value_counts())"
      ]
    },
    {
      "cell_type": "code",
      "execution_count": null,
      "metadata": {
        "id": "862_6aTEKG7o",
        "colab": {
          "base_uri": "https://localhost:8080/"
        },
        "outputId": "50da883a-b4e2-4dee-9e5c-fe52c79737ce"
      },
      "outputs": [
        {
          "output_type": "stream",
          "name": "stdout",
          "text": [
            "Column Types:\n",
            "surgery                   object\n",
            "age                       object\n",
            "hospital_number            int64\n",
            "rectal_temp              float64\n",
            "pulse                    float64\n",
            "respiratory_rate         float64\n",
            "temp_of_extremities       object\n",
            "peripheral_pulse          object\n",
            "mucous_membrane           object\n",
            "capillary_refill_time     object\n",
            "pain                      object\n",
            "peristalsis               object\n",
            "abdominal_distention      object\n",
            "nasogastric_tube          object\n",
            "nasogastric_reflux        object\n",
            "nasogastric_reflux_ph    float64\n",
            "rectal_exam_feces         object\n",
            "abdomen                   object\n",
            "packed_cell_volume       float64\n",
            "total_protein            float64\n",
            "abdomo_appearance         object\n",
            "abdomo_protein           float64\n",
            "outcome                   object\n",
            "surgical_lesion           object\n",
            "lesion_1                   int64\n",
            "lesion_2                   int64\n",
            "lesion_3                   int64\n",
            "cp_data                   object\n",
            "dtype: object\n"
          ]
        }
      ],
      "source": [
        "# Get the types of each column\n",
        "column_types = df.dtypes\n",
        "print(\"Column Types:\")\n",
        "print(column_types)"
      ]
    },
    {
      "cell_type": "code",
      "execution_count": null,
      "metadata": {
        "id": "NupPUo-VKG7o",
        "colab": {
          "base_uri": "https://localhost:8080/"
        },
        "outputId": "ff9f2827-d97c-44e1-b3b2-2db1839a9846"
      },
      "outputs": [
        {
          "output_type": "stream",
          "name": "stdout",
          "text": [
            "NA Values:\n",
            "surgery                    0\n",
            "age                        0\n",
            "hospital_number            0\n",
            "rectal_temp               60\n",
            "pulse                     24\n",
            "respiratory_rate          58\n",
            "temp_of_extremities       56\n",
            "peripheral_pulse          69\n",
            "mucous_membrane           47\n",
            "capillary_refill_time     32\n",
            "pain                      55\n",
            "peristalsis               44\n",
            "abdominal_distention      56\n",
            "nasogastric_tube         104\n",
            "nasogastric_reflux       106\n",
            "nasogastric_reflux_ph    246\n",
            "rectal_exam_feces        102\n",
            "abdomen                  118\n",
            "packed_cell_volume        29\n",
            "total_protein             33\n",
            "abdomo_appearance        165\n",
            "abdomo_protein           198\n",
            "outcome                    0\n",
            "surgical_lesion            0\n",
            "lesion_1                   0\n",
            "lesion_2                   0\n",
            "lesion_3                   0\n",
            "cp_data                    0\n",
            "dtype: int64\n"
          ]
        }
      ],
      "source": [
        "# Count the number of missing values in each column\n",
        "na_count = df.isnull().sum()\n",
        "print(\"NA Values:\")\n",
        "print(na_count)"
      ]
    },
    {
      "cell_type": "code",
      "source": [
        "# Bar chart to illustrate missing values per feature\n",
        "# This visualization is helpful to visualize the top features to potentially delete\n",
        "plt.figure(figsize=(10, 8))\n",
        "# Customize bar colors\n",
        "colors = ['red' if value == max(na_count) else 'gray' for value in na_count]\n",
        "plt.bar(range(len(na_count)), na_count, color=colors)\n",
        "plt.title('Missing Values per Feature', fontsize=16, fontweight='bold')\n",
        "plt.xlabel('Features', fontsize=12)\n",
        "plt.ylabel('Missing Values', fontsize=12)\n",
        "# Adjust the x-ticks properties\n",
        "plt.xticks(np.arange(len(df.columns)), df.columns.values, rotation='vertical', fontsize=10)\n",
        "# Adjust the y-ticks properties\n",
        "plt.yticks(fontsize=10)\n",
        "# Adding value labels to the bars\n",
        "for i, value in enumerate(na_count):\n",
        "    plt.text(i, value, str(value), ha='center', va='bottom', fontsize=10)\n",
        "\n",
        "# Adjust the spacing between subplots\n",
        "plt.tight_layout()\n",
        "plt.show()"
      ],
      "metadata": {
        "id": "QHRunyiiLrH7",
        "colab": {
          "base_uri": "https://localhost:8080/",
          "height": 801
        },
        "outputId": "663fed81-ad60-4489-f566-f6ebd40e0110"
      },
      "execution_count": null,
      "outputs": [
        {
          "output_type": "display_data",
          "data": {
            "text/plain": [
              "<Figure size 1000x800 with 1 Axes>"
            ],
            "image/png": "[encoded data removed]"
          },
          "metadata": {}
        }
      ]
    },
    {
      "cell_type": "code",
      "source": [
        "# The correlation between recal_temp and pulse is approximately 0.20, indicating a weak positive correlation\n",
        "correlation_matrix = df[['rectal_temp', 'pulse']].corr()\n",
        "correlation_coefficient = correlation_matrix.loc['rectal_temp', 'pulse']\n",
        "print(f'Correlation Coefficient: {correlation_coefficient:.2f}')\n",
        "# Calculate the correlation coefficient\n",
        "x = df['rectal_temp']\n",
        "y = df['pulse']\n",
        "plt.scatter(x, y)\n",
        "plt.xlabel('Rectal Temperature')\n",
        "plt.ylabel('Pulse')\n",
        "plt.title('Correlation between Rectal Temperature and Pulse')\n",
        "plt.show()"
      ],
      "metadata": {
        "id": "am5Oq0UVNQR9",
        "colab": {
          "base_uri": "https://localhost:8080/",
          "height": 497
        },
        "outputId": "0bce3631-bd95-4c1b-e687-ea4c4e20b1b2"
      },
      "execution_count": null,
      "outputs": [
        {
          "output_type": "stream",
          "name": "stdout",
          "text": [
            "Correlation Coefficient: 0.22\n"
          ]
        },
        {
          "output_type": "display_data",
          "data": {
            "text/plain": [
              "<Figure size 640x480 with 1 Axes>"
            ],
            "image/png": "[encoded data removed]"
          },
          "metadata": {}
        }
      ]
    },
    {
      "cell_type": "code",
      "source": [
        "sns.heatmap(df.select_dtypes(include=np.number).corr(), annot=True,fmt='.2f',annot_kws={'fontsize':9}, cmap='coolwarm')"
      ],
      "metadata": {
        "id": "O8s5sTz_2sDV",
        "colab": {
          "base_uri": "https://localhost:8080/",
          "height": 609
        },
        "outputId": "2748b970-cf88-4e33-f18a-e782d3074c5c"
      },
      "execution_count": null,
      "outputs": [
        {
          "output_type": "execute_result",
          "data": {
            "text/plain": [
              "<Axes: >"
            ]
          },
          "metadata": {},
          "execution_count": 172
        },
        {
          "output_type": "display_data",
          "data": {
            "text/plain": [
              "<Figure size 640x480 with 2 Axes>"
            ],
            "image/png": "[encoded data removed]"
          },
          "metadata": {}
        }
      ]
    },
    {
      "cell_type": "code",
      "execution_count": null,
      "metadata": {
        "id": "tVrH0-OZKG7p",
        "colab": {
          "base_uri": "https://localhost:8080/"
        },
        "outputId": "da365db6-9c7b-400b-c529-f42d1899b30f"
      },
      "outputs": [
        {
          "output_type": "stream",
          "name": "stdout",
          "text": [
            "Number of missing values in the dataset: 1602\n"
          ]
        }
      ],
      "source": [
        "# Check the number of missing values (NA values)\n",
        "missing_values = df.isna().sum().sum()\n",
        "print(\"Number of missing values in the dataset:\", missing_values)"
      ]
    },
    {
      "cell_type": "code",
      "execution_count": null,
      "metadata": {
        "id": "viNXH0lJKG7p",
        "colab": {
          "base_uri": "https://localhost:8080/"
        },
        "outputId": "ee43a1b0-6bbf-4125-b0d0-611fd29daff9"
      },
      "outputs": [
        {
          "output_type": "stream",
          "name": "stdout",
          "text": [
            "       hospital_number  rectal_temp  pulse  respiratory_rate  nasogastric_reflux_ph  packed_cell_volume  total_protein  abdomo_protein  lesion_1  lesion_2  lesion_3\n",
            "count           299.00       239.00 275.00            241.00                  53.00              270.00         266.00          101.00    299.00    299.00    299.00\n",
            "mean        1087732.70        38.17  72.00             30.46                   4.71               46.31          24.27            3.04   3659.71     90.53      7.39\n",
            "std         1532031.58         0.73  28.65             17.67                   1.98               10.44          27.36            1.97   5408.47    650.64    127.75\n",
            "min          518476.00        35.40  30.00              8.00                   1.00               23.00           3.30            0.10      0.00      0.00      0.00\n",
            "25%          528904.00        37.80  48.00             18.00                   3.00               38.00           6.50            2.00   2111.50      0.00      0.00\n",
            "50%          530301.00        38.20  64.00             25.00                   5.00               45.00           7.50            2.30   2322.00      0.00      0.00\n",
            "75%          534736.00        38.50  88.00             36.00                   6.50               52.00          56.75            3.90   3209.00      0.00      0.00\n",
            "max         5305629.00        40.80 184.00             96.00                   7.50               75.00          89.00           10.10  41110.00   7111.00   2209.00\n"
          ]
        }
      ],
      "source": [
        "# Check for obviously bad data (e.g., outliers, unrealistic values)\n",
        "print(df.describe().to_string(float_format=\"{:.2f}\".format))"
      ]
    },
    {
      "cell_type": "code",
      "execution_count": null,
      "metadata": {
        "id": "h_DaYdcZKG7p",
        "colab": {
          "base_uri": "https://localhost:8080/"
        },
        "outputId": "c91f1645-8f76-473d-a6ed-b22e4924bb50"
      },
      "outputs": [
        {
          "output_type": "stream",
          "name": "stdout",
          "text": [
            "<class 'pandas.core.frame.DataFrame'>\n",
            "RangeIndex: 299 entries, 0 to 298\n",
            "Data columns (total 28 columns):\n",
            " #   Column                 Non-Null Count  Dtype  \n",
            "---  ------                 --------------  -----  \n",
            " 0   surgery                299 non-null    object \n",
            " 1   age                    299 non-null    object \n",
            " 2   hospital_number        299 non-null    int64  \n",
            " 3   rectal_temp            239 non-null    float64\n",
            " 4   pulse                  275 non-null    float64\n",
            " 5   respiratory_rate       241 non-null    float64\n",
            " 6   temp_of_extremities    243 non-null    object \n",
            " 7   peripheral_pulse       230 non-null    object \n",
            " 8   mucous_membrane        252 non-null    object \n",
            " 9   capillary_refill_time  267 non-null    object \n",
            " 10  pain                   244 non-null    object \n",
            " 11  peristalsis            255 non-null    object \n",
            " 12  abdominal_distention   243 non-null    object \n",
            " 13  nasogastric_tube       195 non-null    object \n",
            " 14  nasogastric_reflux     193 non-null    object \n",
            " 15  nasogastric_reflux_ph  53 non-null     float64\n",
            " 16  rectal_exam_feces      197 non-null    object \n",
            " 17  abdomen                181 non-null    object \n",
            " 18  packed_cell_volume     270 non-null    float64\n",
            " 19  total_protein          266 non-null    float64\n",
            " 20  abdomo_appearance      134 non-null    object \n",
            " 21  abdomo_protein         101 non-null    float64\n",
            " 22  outcome                299 non-null    object \n",
            " 23  surgical_lesion        299 non-null    object \n",
            " 24  lesion_1               299 non-null    int64  \n",
            " 25  lesion_2               299 non-null    int64  \n",
            " 26  lesion_3               299 non-null    int64  \n",
            " 27  cp_data                299 non-null    object \n",
            "dtypes: float64(7), int64(4), object(17)\n",
            "memory usage: 65.5+ KB\n"
          ]
        }
      ],
      "source": [
        "# Additional information about the dataset\n",
        "df.info()"
      ]
    },
    {
      "cell_type": "markdown",
      "metadata": {
        "id": "6sTPICBgKG7q"
      },
      "source": [
        "### Initial preprocessing and cleaning"
      ]
    },
    {
      "cell_type": "code",
      "source": [
        "# Delete unecessary columns\n",
        "df.drop(['cp_data', 'hospital_number'], axis=1, inplace=True)\n",
        "# 'hospital_number' does not provide any meaningful information and just serves as a unique identifier.\n",
        "# 'cp_data' refers to whether pathology data is present for a given case (1 = Yes, 2 = No).\n",
        "# However, this variable is not significant as pathology data is neither included nor collected for these cases"
      ],
      "metadata": {
        "id": "pB33TFFQOShA"
      },
      "execution_count": null,
      "outputs": []
    },
    {
      "cell_type": "code",
      "execution_count": null,
      "metadata": {
        "id": "NGtKjUsVKG7q",
        "colab": {
          "base_uri": "https://localhost:8080/"
        },
        "outputId": "217e867d-2b9d-4b37-9a6b-bad0416e10e0"
      },
      "outputs": [
        {
          "output_type": "stream",
          "name": "stdout",
          "text": [
            "Missing Percentage (Descending Order):\n",
            "nasogastric_reflux_ph    82.27%\n",
            "abdomo_protein           66.22%\n",
            "abdomo_appearance        55.18%\n",
            "abdomen                  39.46%\n",
            "nasogastric_reflux       35.45%\n",
            "nasogastric_tube         34.78%\n",
            "rectal_exam_feces        34.11%\n",
            "peripheral_pulse         23.08%\n",
            "rectal_temp              20.07%\n",
            "respiratory_rate         19.40%\n",
            "abdominal_distention     18.73%\n",
            "temp_of_extremities      18.73%\n",
            "pain                     18.39%\n",
            "mucous_membrane          15.72%\n",
            "peristalsis              14.72%\n",
            "total_protein            11.04%\n",
            "capillary_refill_time    10.70%\n",
            "packed_cell_volume        9.70%\n",
            "pulse                     8.03%\n",
            "surgical_lesion           0.00%\n",
            "lesion_2                  0.00%\n",
            "lesion_1                  0.00%\n",
            "surgery                   0.00%\n",
            "outcome                   0.00%\n",
            "age                       0.00%\n",
            "lesion_3                  0.00%\n",
            "dtype: object\n"
          ]
        }
      ],
      "source": [
        "# Percentage of missing data by column\n",
        "missing_percentage = df.isnull().mean() * 100\n",
        "missing_percentage_sorted = missing_percentage.sort_values(ascending=False)\n",
        "# Format output and order by descending order\n",
        "print(\"Missing Percentage (Descending Order):\")\n",
        "print(missing_percentage_sorted.apply(lambda x: f\"{x:.2f}%\"))"
      ]
    },
    {
      "cell_type": "code",
      "execution_count": null,
      "metadata": {
        "id": "kODS5B64KG7q"
      },
      "outputs": [],
      "source": [
        "# Remove columns with lots of missing data (threshold at 50%)\n",
        "# Flexible to test various percentage threholds\n",
        "threshold = 50\n",
        "columns_to_drop = df.columns[missing_percentage > threshold]\n",
        "df.drop(columns_to_drop, axis=1, inplace=True)"
      ]
    },
    {
      "cell_type": "markdown",
      "metadata": {
        "id": "6wnMl0srtDJO"
      },
      "source": [
        "**NOTE**: To reduce redundancy, additional data cleaning is performed in the\n",
        "Method Selection section for both training and test datasets when they are merged.\n",
        "These modifications include the following:\n",
        "- Converting categorical data to numeric using One Hot Encoding.\n",
        "- Filling missing values in categorical columns with the mode (most frequent value).\n",
        "- Filling missing values in numerical columns with the median."
      ]
    },
    {
      "cell_type": "markdown",
      "metadata": {
        "id": "cSTrKFidRK8C"
      },
      "source": [
        "### Exploration and Visualization"
      ]
    },
    {
      "cell_type": "code",
      "source": [
        "print(df.outcome.value_counts())"
      ],
      "metadata": {
        "id": "XzAunCuWlNm0",
        "colab": {
          "base_uri": "https://localhost:8080/"
        },
        "outputId": "5a5c967d-57e5-407c-e334-346baba52461"
      },
      "execution_count": null,
      "outputs": [
        {
          "output_type": "stream",
          "name": "stdout",
          "text": [
            "lived         178\n",
            "died           77\n",
            "euthanized     44\n",
            "Name: outcome, dtype: int64\n"
          ]
        }
      ]
    },
    {
      "cell_type": "code",
      "source": [
        "# Calculate the counts of each category\n",
        "category_counts = df['outcome'].value_counts()\n",
        "outcome_names = {0: 'Died', 1: 'Euthanized', 2: 'Lived'}\n",
        "# Create a pie chart with count and percentage\n",
        "labels = [outcome_names[label] for label in category_counts.index]\n",
        "sizes = category_counts.values\n",
        "total = sum(sizes)\n",
        "percentages = [(size / total) * 100 for size in sizes]\n",
        "autopct = lambda p: '{:.1f}%\\n({:.0f})'.format(p, (p/100) * total)\n",
        "colors = ['#ECE5C7', '#116A7B', '#CDC2AE']\n",
        "plt.pie(sizes, labels=labels, autopct=autopct, startangle=90, colors=colors)\n",
        "plt.axis('equal')\n",
        "plt.title('Outcome Distribution')\n",
        "plt.show()"
      ],
      "metadata": {
        "colab": {
          "base_uri": "https://localhost:8080/",
          "height": 356
        },
        "id": "PJPoljhzI0EQ",
        "outputId": "12de28e7-1fc4-48d0-ff79-48be8d56fd70"
      },
      "execution_count": null,
      "outputs": [
        {
          "output_type": "error",
          "ename": "KeyError",
          "evalue": "ignored",
          "traceback": [
            "\u001b[0;31m---------------------------------------------------------------------------\u001b[0m",
            "\u001b[0;31mKeyError\u001b[0m                                  Traceback (most recent call last)",
            "\u001b[0;32m<ipython-input-180-ac7fb9500dba>\u001b[0m in \u001b[0;36m<cell line: 5>\u001b[0;34m()\u001b[0m\n\u001b[1;32m      3\u001b[0m \u001b[0moutcome_names\u001b[0m \u001b[0;34m=\u001b[0m \u001b[0;34m{\u001b[0m\u001b[0;36m0\u001b[0m\u001b[0;34m:\u001b[0m \u001b[0;34m'Died'\u001b[0m\u001b[0;34m,\u001b[0m \u001b[0;36m1\u001b[0m\u001b[0;34m:\u001b[0m \u001b[0;34m'Euthanized'\u001b[0m\u001b[0;34m,\u001b[0m \u001b[0;36m2\u001b[0m\u001b[0;34m:\u001b[0m \u001b[0;34m'Lived'\u001b[0m\u001b[0;34m}\u001b[0m\u001b[0;34m\u001b[0m\u001b[0;34m\u001b[0m\u001b[0m\n\u001b[1;32m      4\u001b[0m \u001b[0;31m# Create a pie chart with count and percentage\u001b[0m\u001b[0;34m\u001b[0m\u001b[0;34m\u001b[0m\u001b[0m\n\u001b[0;32m----> 5\u001b[0;31m \u001b[0mlabels\u001b[0m \u001b[0;34m=\u001b[0m \u001b[0;34m[\u001b[0m\u001b[0moutcome_names\u001b[0m\u001b[0;34m[\u001b[0m\u001b[0mlabel\u001b[0m\u001b[0;34m]\u001b[0m \u001b[0;32mfor\u001b[0m \u001b[0mlabel\u001b[0m \u001b[0;32min\u001b[0m \u001b[0mcategory_counts\u001b[0m\u001b[0;34m.\u001b[0m\u001b[0mindex\u001b[0m\u001b[0;34m]\u001b[0m\u001b[0;34m\u001b[0m\u001b[0;34m\u001b[0m\u001b[0m\n\u001b[0m\u001b[1;32m      6\u001b[0m \u001b[0msizes\u001b[0m \u001b[0;34m=\u001b[0m \u001b[0mcategory_counts\u001b[0m\u001b[0;34m.\u001b[0m\u001b[0mvalues\u001b[0m\u001b[0;34m\u001b[0m\u001b[0;34m\u001b[0m\u001b[0m\n\u001b[1;32m      7\u001b[0m \u001b[0mtotal\u001b[0m \u001b[0;34m=\u001b[0m \u001b[0msum\u001b[0m\u001b[0;34m(\u001b[0m\u001b[0msizes\u001b[0m\u001b[0;34m)\u001b[0m\u001b[0;34m\u001b[0m\u001b[0;34m\u001b[0m\u001b[0m\n",
            "\u001b[0;32m<ipython-input-180-ac7fb9500dba>\u001b[0m in \u001b[0;36m<listcomp>\u001b[0;34m(.0)\u001b[0m\n\u001b[1;32m      3\u001b[0m \u001b[0moutcome_names\u001b[0m \u001b[0;34m=\u001b[0m \u001b[0;34m{\u001b[0m\u001b[0;36m0\u001b[0m\u001b[0;34m:\u001b[0m \u001b[0;34m'Died'\u001b[0m\u001b[0;34m,\u001b[0m \u001b[0;36m1\u001b[0m\u001b[0;34m:\u001b[0m \u001b[0;34m'Euthanized'\u001b[0m\u001b[0;34m,\u001b[0m \u001b[0;36m2\u001b[0m\u001b[0;34m:\u001b[0m \u001b[0;34m'Lived'\u001b[0m\u001b[0;34m}\u001b[0m\u001b[0;34m\u001b[0m\u001b[0;34m\u001b[0m\u001b[0m\n\u001b[1;32m      4\u001b[0m \u001b[0;31m# Create a pie chart with count and percentage\u001b[0m\u001b[0;34m\u001b[0m\u001b[0;34m\u001b[0m\u001b[0m\n\u001b[0;32m----> 5\u001b[0;31m \u001b[0mlabels\u001b[0m \u001b[0;34m=\u001b[0m \u001b[0;34m[\u001b[0m\u001b[0moutcome_names\u001b[0m\u001b[0;34m[\u001b[0m\u001b[0mlabel\u001b[0m\u001b[0;34m]\u001b[0m \u001b[0;32mfor\u001b[0m \u001b[0mlabel\u001b[0m \u001b[0;32min\u001b[0m \u001b[0mcategory_counts\u001b[0m\u001b[0;34m.\u001b[0m\u001b[0mindex\u001b[0m\u001b[0;34m]\u001b[0m\u001b[0;34m\u001b[0m\u001b[0;34m\u001b[0m\u001b[0m\n\u001b[0m\u001b[1;32m      6\u001b[0m \u001b[0msizes\u001b[0m \u001b[0;34m=\u001b[0m \u001b[0mcategory_counts\u001b[0m\u001b[0;34m.\u001b[0m\u001b[0mvalues\u001b[0m\u001b[0;34m\u001b[0m\u001b[0;34m\u001b[0m\u001b[0m\n\u001b[1;32m      7\u001b[0m \u001b[0mtotal\u001b[0m \u001b[0;34m=\u001b[0m \u001b[0msum\u001b[0m\u001b[0;34m(\u001b[0m\u001b[0msizes\u001b[0m\u001b[0;34m)\u001b[0m\u001b[0;34m\u001b[0m\u001b[0;34m\u001b[0m\u001b[0m\n",
            "\u001b[0;31mKeyError\u001b[0m: 'lived'"
          ]
        }
      ]
    },
    {
      "cell_type": "code",
      "source": [
        "# Figure showing that horses exhibiting the highest symptoms of extreme pain, severe pain, and depression ultimately died.\n",
        "sns.set(style=\"whitegrid\", font_scale=1.2)\n",
        "plt.figure(figsize=(10, 6))\n",
        "ax = sns.countplot(data=df, x='outcome', hue='pain', palette='colorblind')\n",
        "ax.set_xlabel('Outcome', fontsize=14)\n",
        "ax.set_ylabel('Count', fontsize=14)\n",
        "ax.set_title('Distribution of Outcomes by Pain', fontsize=16)\n",
        "legend = ax.legend(title='Pain', loc='upper left')\n",
        "handles, labels = ax.get_legend_handles_labels()\n",
        "# Remove underscores from legend labels\n",
        "new_labels = [label.replace('_', ' ') for label in labels]\n",
        "ax.legend(handles, new_labels, title = 'Pain Type', loc='upper left')\n",
        "\n",
        "# Add value labels to the bars\n",
        "for p in ax.patches:\n",
        "    ax.annotate(f'{int(p.get_height())}', (p.get_x() + p.get_width() / 2, p.get_height()), ha='center',\n",
        "                va='bottom', fontsize=12, color='black')\n",
        "\n",
        "plt.tight_layout()\n",
        "plt.show()"
      ],
      "metadata": {
        "id": "sxRS-D17Ul29"
      },
      "execution_count": null,
      "outputs": []
    },
    {
      "cell_type": "code",
      "execution_count": null,
      "metadata": {
        "id": "gRUJyMQ7KG7q"
      },
      "outputs": [],
      "source": [
        "# Histograms of single numeric value (age of horse)\n",
        "plt.figure(figsize=(4, 6))\n",
        "plt.hist(df['age'], bins='auto', edgecolor='black')\n",
        "plt.xlabel('Age', fontsize=12)\n",
        "plt.ylabel('Frequency', fontsize=12)\n",
        "plt.title('Histogram of Age')\n",
        "plt.grid(True, linestyle='--', alpha=0.5)\n",
        "plt.xticks(fontsize=10)\n",
        "plt.yticks(fontsize=10)\n",
        "plt.tight_layout()\n",
        "plt.show()"
      ]
    },
    {
      "cell_type": "code",
      "execution_count": null,
      "metadata": {
        "id": "psv7Ms1rKG7r"
      },
      "outputs": [],
      "source": [
        "# Bar plots of value counts of single categorical variable (surgery)\n",
        "sns.set(style='whitegrid')\n",
        "plt.figure(figsize=(8, 6))\n",
        "ax = sns.countplot(x='surgery', data=df, palette='bright')\n",
        "plt.xlabel('Surgery')\n",
        "plt.ylabel('Count')\n",
        "plt.title('Number of Horses Requiring Surgery')\n",
        "plt.xticks([0, 1], ['No', 'Yes'])\n",
        "\n",
        "for p in ax.patches:\n",
        "    ax.annotate(f'{int(p.get_height())}', (p.get_x() + p.get_width() / 2, p.get_height()), ha='center', va='bottom')\n",
        "plt.show()"
      ]
    },
    {
      "cell_type": "code",
      "execution_count": null,
      "metadata": {
        "id": "5By_dOj1KG7r"
      },
      "outputs": [],
      "source": [
        "# Subplots indicating that horses that died had a pulse of around 70 bpm, while\n",
        "# horses that lived had the highest pulse count at approximately 40 bpm.\n",
        "sns.set(style=\"whitegrid\")\n",
        "facet_grid = sns.FacetGrid(data=test, col='outcome', margin_titles=True, height=4)\n",
        "facet_grid .map(plt.hist, 'pulse', bins=10, color='skyblue', edgecolor='white')\n",
        "plt.subplots_adjust(top=0.85)\n",
        "facet_grid.fig.suptitle('Outcome vs Pulse', fontsize=16, y=1.05)\n",
        "facet_grid.set_axis_labels('Pulse', 'Count')\n",
        "plt.show()"
      ]
    },
    {
      "cell_type": "code",
      "execution_count": null,
      "metadata": {
        "id": "YYJQccLZKG7r"
      },
      "outputs": [],
      "source": [
        "# Pivot table to count the occurrences of each peripheral pulse by outcome\n",
        "sns.set(style=\"whitegrid\")\n",
        "pivot_table = test.pivot_table(index='peripheral_pulse', columns='outcome', aggfunc='size', fill_value=0)\n",
        "# Reorder columns based on outcome categories\n",
        "pivot_table = pivot_table[['died', 'euthanized', 'lived']]\n",
        "ax = pivot_table.plot(kind='bar', stacked=True, color=['#E74C3C', '#F39C12', '#27AE60'])\n",
        "ax.set_title('Outcome by Peripheral Pulse')\n",
        "ax.set_xlabel('Peripheral Pulse')\n",
        "ax.set_ylabel('Count')\n",
        "plt.tight_layout()\n",
        "plt.show()"
      ]
    },
    {
      "cell_type": "code",
      "source": [
        "# Query the counts for horses that either died or were euthanized and also had\n",
        "# a reduced or absent peripheral pulse, as these two values indicate\n",
        "# poor perfusion. Additionally, cross-reference this data with capillary\n",
        "# refill time, as a longer refill time suggests poorer circulation.\n",
        "\n",
        "custom_color_palette = ['#d36135','#fac05e', '#33658a']\n",
        "\n",
        "# Filter the DataFrame based on conditions\n",
        "reduced_absent_pulse_df = df[\n",
        "    (df['outcome'].isin(['died', 'euthanized'])) &\n",
        "    (df['peripheral_pulse'].isin(['reduced', 'absent']))\n",
        "]\n",
        "\n",
        "sns.set_style(\"ticks\")\n",
        "\n",
        "capillary_refill_plot = sns.catplot(\n",
        "    data=reduced_absent_pulse_df,\n",
        "    x='capillary_refill_time',\n",
        "    col='outcome',\n",
        "    kind='count',\n",
        "    palette=custom_color_palette,\n",
        "    height=4,\n",
        "    aspect=1.2\n",
        ")\n",
        "\n",
        "capillary_refill_plot.set_titles('Outcome = {col_name}')\n",
        "capillary_refill_plot.set_xlabels('Capillary Refill Time')\n",
        "capillary_refill_plot.set_ylabels('Count')\n",
        "sns.despine()\n",
        "capillary_refill_plot.set_xticklabels(rotation=45)\n",
        "capillary_refill_plot.fig.suptitle('Distribution of Capillary Refill Time by Outcome', y=1.05, fontsize=16)\n",
        "capillary_refill_plot.axes.flat[0].grid(axis='y', linestyle=':', alpha=0.5)\n",
        "capillary_refill_plot.fig.subplots_adjust(top=0.8)\n",
        "plt.show()"
      ],
      "metadata": {
        "id": "mB8eefG6pNFx"
      },
      "execution_count": null,
      "outputs": []
    },
    {
      "cell_type": "markdown",
      "metadata": {
        "id": "2tFBF8gBSPmA"
      },
      "source": [
        "## Method Selection\n",
        "To improve the model's performance, the regular training dataset is combined with the test dataset. This will train the model on a wider range of data, enabling better generalization and evaluation of its effectiveness in various scenarios. The merged dataset facilitates a more comprehensive assessment of the model."
      ]
    },
    {
      "cell_type": "code",
      "source": [
        "# Joining the regular dataset and the test-train dataset\n",
        "train_dataset_index = df.shape[0]\n",
        "test_dataset_index = test.shape[0]\n",
        "\n",
        "merged_dataset = pd.concat(objs=[df, test], axis=0, ignore_index=True)\n",
        "# Before joining\n",
        "print(\"Train Dataset Shape: {} rows, {} columns\".format(df.shape[0], df.shape[1]))\n",
        "print(\"Test Dataset Shape: {} rows, {} columns\\n\".format(test.shape[0], test.shape[1]))\n",
        "# After joining\n",
        "print(\"Merged Dataset Shape: {} rows, {} columns\".format(merged_dataset.shape[0], merged_dataset.shape[1]))"
      ],
      "metadata": {
        "id": "EP4lhsmu1zEb"
      },
      "execution_count": null,
      "outputs": []
    },
    {
      "cell_type": "markdown",
      "metadata": {
        "id": "WA1a64Ukmswr"
      },
      "source": [
        "#### Feature Engineering"
      ]
    },
    {
      "cell_type": "markdown",
      "metadata": {
        "id": "HTMw3gQoonhX"
      },
      "source": [
        "**Techniques and Preprocessing Employed**\n",
        "\n",
        "Various feature engineering techniques are employed to prepare the dataset for further analysis, taking into account the percentage of missing values and the data type of each column.\n",
        "\n",
        "- ***One-Hot Encoding***: Categorical data is converted into numeric data using one-hot encoding.\n",
        "\n",
        "- ***Removal of columns with high missing percentages***: Columns with more than 50% missing values are considered for removal from the dataset, eliminating columns with insufficient data.\n",
        "\n",
        "- ***Mode imputation*** for categorical columns: Missing values in categorical columns (identified by the dtype == 'object' condition) are filled using the mode.\n",
        "\n",
        "- ***Median imputation*** for numerical columns: Missing values in numerical columns are filled using the median value of that specific column."
      ]
    },
    {
      "cell_type": "code",
      "source": [
        "# Check for missing values in each column of merged_dataset\n",
        "for column in merged_dataset.columns:\n",
        "    # Count the number of missing values in the current column\n",
        "    missing_values_count = merged_dataset[column].isna().sum()\n",
        "\n",
        "    if missing_values_count > 0:\n",
        "        # Calculate the percentage of missing values in the current column\n",
        "        missing_percentage = missing_values_count / len(merged_dataset)\n",
        "\n",
        "        if missing_percentage > 0.5:\n",
        "            # If more than 50% of values are missing, remove the column\n",
        "            print(f\"Column '{column}' removed\")\n",
        "            merged_dataset.drop(column, axis=1, inplace=True)\n",
        "        elif merged_dataset[column].dtype == 'object':\n",
        "            # For categorical columns, fill missing values with the mode (most frequent value)\n",
        "            merged_dataset[column].fillna(merged_dataset[column].mode().iloc[0], inplace=True)\n",
        "        else:\n",
        "            # For numerical columns, fill missing values with the median\n",
        "            merged_dataset[column].fillna(merged_dataset[column].median(), inplace=True)\n",
        "\n",
        "# Print the shape and remaining missing values in merged_dataset\n",
        "print(\"Shape of merged_dataset:\", merged_dataset.shape)\n",
        "print(\"Missing values in merged_dataset:\")\n",
        "print(merged_dataset.isna().sum())\n",
        "print(\"\\nValue counts:\")\n",
        "print(merged_dataset['outcome'].value_counts())"
      ],
      "metadata": {
        "id": "Ek8A4EXT27Q8"
      },
      "execution_count": null,
      "outputs": []
    },
    {
      "cell_type": "code",
      "source": [
        "# Fix the \"outcome\" column by converting the categorial data to numeric\n",
        "merged_dataset[\"outcome\"] = merged_dataset[\"outcome\"].astype('category').cat.codes\n",
        "merged_dataset.head()"
      ],
      "metadata": {
        "id": "MnLuFFaBVIRS"
      },
      "execution_count": null,
      "outputs": []
    },
    {
      "cell_type": "code",
      "source": [
        "# Print each column on a seperate row\n",
        "for col_names in merged_dataset.columns:\n",
        "  print(col_names)"
      ],
      "metadata": {
        "id": "SB-r-BA-5fsm"
      },
      "execution_count": null,
      "outputs": []
    },
    {
      "cell_type": "code",
      "source": [
        "# Correlation analysis is performed to examine the relationship between\n",
        "# features and a target value, which in this case is 'outcome'\n",
        "def analyze_correlation(dataset, target_column, num_of_top_correlations=10):\n",
        "  correlation_matrix = dataset.corr()\n",
        "  correlation_values = correlation_matrix[target_column].abs().sort_values(ascending=False)\n",
        "  top_correlations = correlation_values[1:num_of_top_correlations+1]\n",
        "  top_feats = top_correlations.index\n",
        "  top_feats_matrix = dataset[top_feats].corr()\n",
        "  print(f\"Top {num_of_top_correlations} Correlation Values to '{target_column}':\")\n",
        "  print(top_correlations)\n",
        "\n",
        "  # output a correlation heatmap\n",
        "  plt.figure(figsize=(10,8))\n",
        "  sns.heatmap(top_feats_matrix, annot=True, cmap=\"inferno\")\n",
        "  plt.title(f\"Correlation Heatmap - '{target_column}'\")\n",
        "  plt.show()\n",
        "\n",
        "target_column = \"outcome\"\n",
        "analyze_correlation(merged_dataset, target_column, num_of_top_correlations=10)"
      ],
      "metadata": {
        "id": "yqdlwa9Vt4FP"
      },
      "execution_count": null,
      "outputs": []
    },
    {
      "cell_type": "code",
      "source": [
        "# Feature Engineering: One Hot Encoding\n",
        "# Convert the rest of the categorical data to numeric\n",
        "merged_dataset = pd.get_dummies(merged_dataset)\n",
        "merged_dataset.head(10)"
      ],
      "metadata": {
        "id": "mvLSCMiHVqZC"
      },
      "execution_count": null,
      "outputs": []
    },
    {
      "cell_type": "markdown",
      "metadata": {
        "id": "UUZ8tSg6nA9k"
      },
      "source": [
        "#### Exploratory Analysis on Merged Dataset"
      ]
    },
    {
      "cell_type": "code",
      "source": [
        "df = merged_dataset.iloc[:train_dataset_index]\n",
        "test = merged_dataset.iloc[train_dataset_index:]\n",
        "\n",
        "# Checking shape\n",
        "print(\"Original training dataset\")\n",
        "print(f\"Variables: {df.shape[1]}\\nEntries: {df.shape[0]}\\n\")\n",
        "print(\"Test dataset\")\n",
        "print(f\"Variables: {test.shape[1]}\\nEntries: {test.shape[0]}\\n\")"
      ],
      "metadata": {
        "id": "hsideLYpWSqP"
      },
      "execution_count": null,
      "outputs": []
    },
    {
      "cell_type": "markdown",
      "source": [
        "This exploratory analysis is based on the merged dataset, which has been converted to include numeric representations of the categorical data."
      ],
      "metadata": {
        "id": "D92edNOTCZMG"
      }
    },
    {
      "cell_type": "code",
      "source": [
        "# This exploratory analysis is based on the merged dataset, which has been\n",
        "# converted to include numeric representations of the categorical data.\n",
        "\n",
        "# Horse outcome distribution for merged dataset\n",
        "custom_palette = [\"#FF6961\", \"#7EC0EE\", \"#9bda0a\"]\n",
        "sns.set(style=\"whitegrid\", palette=custom_palette)\n",
        "ax = sns.countplot(data=merged_dataset, x='outcome')\n",
        "\n",
        "# Set the x-axis tick labels\n",
        "# 0: died, 1: euthanized, 2: lived\n",
        "ax.set_xticklabels(['0: Died', '1: Euthanized', '2: Lived'])\n",
        "\n",
        "# Add count labels above each bar\n",
        "for p in ax.patches:\n",
        "    ax.annotate('{:.0f}'.format(p.get_height()), (p.get_x() + p.get_width() / 2., p.get_height()),\n",
        "                ha='center', va='center', xytext=(0, 10), textcoords='offset points', fontsize=12)\n",
        "\n",
        "plt.xlabel('Outcome', fontsize=14)\n",
        "plt.ylabel('Count', fontsize=14)\n",
        "plt.title('Outcome Distribution for Merged Dataset', fontsize=16)\n",
        "plt.ylim(0, 300)\n",
        "plt.xticks(fontsize=12)\n",
        "plt.yticks(fontsize=12)\n",
        "plt.tight_layout()\n",
        "plt.show()"
      ],
      "metadata": {
        "id": "VxxeKXY5_kx6"
      },
      "execution_count": null,
      "outputs": []
    },
    {
      "cell_type": "code",
      "source": [
        "# Abdominal distention is an important parameter, given that it causes severe\n",
        "# pain in horses and often necessitates surgery to alleviate the pressure.\n",
        "# As shown, a significant number of horses with moderate or severe levels of\n",
        "# abdominal distention do not survive.\n",
        "\n",
        "# Stacked bar plot of abdominal distention levels for each outcome category\n",
        "abdominal_distention_cols = ['abdominal_distention_none', 'abdominal_distention_slight',\n",
        "                             'abdominal_distention_moderate', 'abdominal_distention_severe']\n",
        "outcome_labels = ['lived', 'died', 'euthanized']\n",
        "\n",
        "# custom colors for each abdominal distention level\n",
        "colors = ['#00b588', '#4297a0', '#eaab00', '#e51111']\n",
        "# computer counts of abdominal distention levels for each outcome category\n",
        "distention_counts = merged_dataset.groupby('outcome')[abdominal_distention_cols].sum()\n",
        "distention_counts.plot(kind='bar', stacked=True, color=colors)\n",
        "plt.xlabel('Outcome')\n",
        "plt.ylabel('Count')\n",
        "plt.title('Distribution of Abdominal Distention across Outcome Categories')\n",
        "plt.legend(labels=abdominal_distention_cols)\n",
        "ax = plt.gca()\n",
        "ax.set_xticklabels(['0: Died', '1: Euthanized', '2: Lived'], rotation=0)\n",
        "plt.show()"
      ],
      "metadata": {
        "id": "bQj-Hzro1Fbc"
      },
      "execution_count": null,
      "outputs": []
    },
    {
      "cell_type": "code",
      "source": [
        "# For horse rectal exams, the absence of feces suggests an obstruction,\n",
        "# which is largely indicated by the plot as resulting in surgery.\n",
        "\n",
        "rectal_exam_columns = ['rectal_exam_feces_absent', 'rectal_exam_feces_decreased',\n",
        "                       'rectal_exam_feces_increased', 'rectal_exam_feces_normal', 'surgery_yes']\n",
        "\n",
        "subset_df = merged_dataset[rectal_exam_columns]\n",
        "rectal_exam_values = subset_df.groupby('surgery_yes').sum().transpose()\n",
        "\n",
        "sns.set(style=\"whitegrid\")\n",
        "rectal_exam_values.plot(kind='bar', ax=plt.gca())\n",
        "plt.xlabel('Rectal Exam Result')\n",
        "plt.ylabel('Frequency')\n",
        "plt.title('Rectal Exam and Surgery Outcomes')\n",
        "plt.legend(['No Surgery Required', 'Surgery Required'], title='Surgery')\n",
        "plt.xticks(rotation=45)\n",
        "plt.show()"
      ],
      "metadata": {
        "id": "heT_nVb58rS8"
      },
      "execution_count": null,
      "outputs": []
    },
    {
      "cell_type": "code",
      "source": [
        "# The outcome variable needs to be removed in order to train the model effectively\n",
        "X_train = df.drop(\"outcome\", axis=1).values\n",
        "Y_train = df[\"outcome\"]\n",
        "X_test  = test.drop(\"outcome\", axis=1).values\n",
        "Y_test  = test[\"outcome\"]"
      ],
      "metadata": {
        "id": "W8-pUFkTYITI"
      },
      "execution_count": null,
      "outputs": []
    },
    {
      "cell_type": "markdown",
      "source": [
        "### Approach 1: Random Forest Classifier\n"
      ],
      "metadata": {
        "id": "q7cbVzy1uN3-"
      }
    },
    {
      "cell_type": "code",
      "source": [
        "# Random Forest Classifier\n",
        "num_of_estimators = 100\n",
        "random_forest = RandomForestClassifier(n_estimators=num_of_estimators, min_samples_leaf=3, max_features=0.5, n_jobs=-1)\n",
        "random_forest.fit(X_train, Y_train)\n",
        "\n",
        "print('Random Forest Classifier Performance')\n",
        "print('------------------------------------------------------')\n",
        "# Calculate and print the training accuracy\n",
        "train_accuracy = round(random_forest.score(X_train, Y_train) * 100, 2)\n",
        "print(f'\\nTraining Accuracy: {train_accuracy}%')\n",
        "# Calculate and print the test accuracy\n",
        "test_accuracy = round(random_forest.score(X_test, Y_test) * 100, 2)\n",
        "print(f'Test Accuracy: {test_accuracy}%')\n",
        "Y_pred = random_forest.predict(X_test)\n",
        "# Calculate and print the confusion matrix\n",
        "confusion_matrix = pd.crosstab(Y_test, Y_pred, rownames=[\"Real\"], colnames=[\"Predict\"], margins=True)\n",
        "# Format the confusion matrix output\n",
        "confusion_matrix_formatted = confusion_matrix.copy()\n",
        "confusion_matrix_formatted.index = ['Actual ' + str(label) for label in confusion_matrix.index]\n",
        "confusion_matrix_formatted.columns = ['Predicted ' + str(label) for label in confusion_matrix.columns]\n",
        "# Print the formatted confusion matrix\n",
        "print(\"\\nConfusion Matrix:\")\n",
        "print(confusion_matrix_formatted)"
      ],
      "metadata": {
        "id": "fFu0ysTxYTH_"
      },
      "execution_count": null,
      "outputs": []
    },
    {
      "cell_type": "code",
      "source": [
        "# Create learning curve and arrays to store scores, training sizes 10% - 100%\n",
        "train_sizes, train_scores, test_scores = learning_curve(random_forest, X_train, Y_train, train_sizes=np.linspace(0.1, 1.0, 10), cv=5)\n",
        "# Calculate/store mean scores and standard deviations\n",
        "train_scores_mean = np.mean(train_scores, axis=1)\n",
        "train_scores_std = np.std(train_scores, axis=1)\n",
        "test_scores_mean = np.mean(test_scores, axis=1)\n",
        "test_scores_std = np.std(test_scores, axis=1)\n",
        "\n",
        "# Plot learning curve\n",
        "plt.figure(figsize=(10, 6))\n",
        "# Plot training and validation scores\n",
        "plt.plot(train_sizes, train_scores_mean, 'o-', color=\"b\", label=\"Training score\")\n",
        "plt.plot(train_sizes, test_scores_mean, 'o-', color=\"r\", label=\"Validation score\")\n",
        "# Show variance of scores\n",
        "plt.fill_between(train_sizes, train_scores_mean - train_scores_std, train_scores_mean + train_scores_std, alpha=0.1, color=\"b\")\n",
        "plt.fill_between(train_sizes, test_scores_mean - test_scores_std, test_scores_mean + test_scores_std, alpha=0.1, color=\"r\")\n",
        "# Labels, legend and grid\n",
        "plt.xlabel(\"Training Set Size\")\n",
        "plt.ylabel(\"Accuracy\")\n",
        "plt.title(\"Random Forest Learning Curve\")\n",
        "plt.legend(loc=\"best\")\n",
        "plt.grid(True)\n",
        "plt.show()"
      ],
      "metadata": {
        "id": "uG0FLinjeY0S"
      },
      "execution_count": null,
      "outputs": []
    },
    {
      "cell_type": "code",
      "source": [
        "# Random Forest Classifier\n",
        "\n",
        "# Generate a classification report based on the predicted labels (Y_pred)\n",
        "# and the true labels (Y_test).\n",
        "report = classification_report(Y_test, Y_pred)\n",
        "print('Classification Report:')\n",
        "print(report)\n",
        "# Display the number of true positives, true negatives, false positives,\n",
        "# and false negatives for each class.\n",
        "confusion_matrix_value = pd.crosstab(Y_test, Y_pred)\n",
        "sns.heatmap(confusion_matrix_value, annot=True, cmap=\"Blues\", fmt=\"d\")\n",
        "plt.xlabel(\"Predicted\")\n",
        "plt.ylabel(\"Actual\")\n",
        "plt.title(\"Confusion Matrix\")\n",
        "plt.show()"
      ],
      "metadata": {
        "id": "R0HVn0wUabGh"
      },
      "execution_count": null,
      "outputs": []
    },
    {
      "cell_type": "markdown",
      "source": [
        "### Approach 2: K-Nearest Neighbors Classifier"
      ],
      "metadata": {
        "id": "p3HOq9q5uQ4n"
      }
    },
    {
      "cell_type": "code",
      "source": [
        "# K-Nearest Neighbors Classifier\n",
        "\n",
        "# standardize the data\n",
        "scaler = StandardScaler()\n",
        "X_train_scaled = scaler.fit_transform(X_train)\n",
        "X_test_scaled = scaler.transform(X_test)\n",
        "\n",
        "# range of values to try for n_neighbors\n",
        "param_grid = {'n_neighbors': [3, 5, 7, 9]}\n",
        "# create a GridSearchCV object\n",
        "grid_search = GridSearchCV(KNeighborsClassifier(), param_grid)\n",
        "# fit the GridSearchCV object to the scaled training data\n",
        "grid_search.fit(X_train_scaled, Y_train)\n",
        "\n",
        "# retrieve the best value of n_neighbors\n",
        "best_n_neighbors = grid_search.best_params_['n_neighbors']\n",
        "# KNN classifier with the best hyperparameters\n",
        "knn = KNeighborsClassifier(n_neighbors=best_n_neighbors)\n",
        "# cross-validation\n",
        "scores = cross_val_score(knn, X_train_scaled, Y_train, cv=5)\n",
        "# compute the mean and std of the cross-validation scores\n",
        "mean_acc_knn = scores.mean() * 100\n",
        "std_acc_knn = scores.std() * 100\n",
        "# fit the KNN classifier on the training data\n",
        "knn.fit(X_train_scaled, Y_train)\n",
        "# predictions on the test data\n",
        "Y_pred2 = knn.predict(X_test_scaled)\n",
        "train_accuracy = accuracy_score(Y_train, knn.predict(X_train_scaled)) * 100\n",
        "\n",
        "print('K-Nearest Neighbors Classifier Performance')\n",
        "print('------------------------------------------------------')\n",
        "print('Accuracy of the KNN model on the training set: {:.2f}%'.format(train_accuracy))\n",
        "print('Optimal value of n_neighbors:', best_n_neighbors)\n",
        "print('Mean accuracy of KNeighborsClassifier (after cross-validation): {:.2f}%'.format(mean_acc_knn))\n",
        "print('Standard deviation of accuracy: {:.2f}%'.format(std_acc_knn))\n",
        "\n",
        "# Calculate and print the confusion matrix\n",
        "confusion_matrix_2 = pd.crosstab(Y_test, Y_pred2, rownames=[\"Real\"], colnames=[\"Predict\"], margins=True)\n",
        "# Format the confusion matrix output\n",
        "confusion_matrix_formatted_2 = confusion_matrix_2.copy()\n",
        "confusion_matrix_formatted_2.index = ['Actual ' + str(label) for label in confusion_matrix_2.index]\n",
        "confusion_matrix_formatted_2.columns = ['Predicted ' + str(label) for label in confusion_matrix_2.columns]\n",
        "# Print the formatted confusion matrix\n",
        "print(\"\\nConfusion Matrix:\")\n",
        "print(confusion_matrix_formatted_2)"
      ],
      "metadata": {
        "id": "TILrMQKOZNuh"
      },
      "execution_count": null,
      "outputs": []
    },
    {
      "cell_type": "code",
      "source": [
        "# K-Nearest Neighbors Classifier\n",
        "\n",
        "# Generate a classification report based on the predicted labels (Y_pred2)\n",
        "# and the true labels (Y_test).\n",
        "report2 = classification_report(Y_test, Y_pred2)\n",
        "print('Classification Report:')\n",
        "print(report2)\n",
        "# Display the number of true positives, true negatives, false positives,\n",
        "# and false negatives for each class.\n",
        "confusion_matrix_value2 = pd.crosstab(Y_test, Y_pred2)\n",
        "sns.heatmap(confusion_matrix_value2, annot=True, cmap=\"Oranges\", fmt=\"d\")\n",
        "plt.xlabel(\"Predicted\")\n",
        "plt.ylabel(\"Actual\")\n",
        "plt.title(\"Confusion Matrix\")\n",
        "plt.show()"
      ],
      "metadata": {
        "id": "UAgDXL_xmtAf"
      },
      "execution_count": null,
      "outputs": []
    },
    {
      "cell_type": "code",
      "source": [
        "# Create learning curve and arrays to store scores, training sizes 10% - 100%\n",
        "train_sizes, train_scores, test_scores = learning_curve(knn, X_train_scaled, Y_train, train_sizes=np.linspace(0.1, 1.0, 10), cv=5)\n",
        "\n",
        "# Calculate/store mean scores and standard deviations\n",
        "train_scores_mean = np.mean(train_scores, axis=1)\n",
        "train_scores_std = np.std(train_scores, axis=1)\n",
        "test_scores_mean = np.mean(test_scores, axis=1)\n",
        "test_scores_std = np.std(test_scores, axis=1)\n",
        "\n",
        "# Plot learning curve\n",
        "plt.figure(figsize=(10, 6))\n",
        "# Plot training and validation scores\n",
        "plt.plot(train_sizes, train_scores_mean, 'o-', color=\"b\", label=\"Training score\")\n",
        "plt.plot(train_sizes, test_scores_mean, 'o-', color=\"r\", label=\"Validation score\")\n",
        "# Show variance of scores\n",
        "plt.fill_between(train_sizes, train_scores_mean - train_scores_std, train_scores_mean + train_scores_std, alpha=0.1, color=\"b\")\n",
        "plt.fill_between(train_sizes, test_scores_mean - test_scores_std, test_scores_mean + test_scores_std, alpha=0.1, color=\"r\")\n",
        "# Labels, legend and grid\n",
        "plt.xlabel(\"Training Set Size\")\n",
        "plt.ylabel(\"Accuracy\")\n",
        "plt.title(\"kNN Classifier Learning Curve\")\n",
        "plt.legend(loc=\"lower right\")\n",
        "plt.grid(True)\n",
        "plt.show()"
      ],
      "metadata": {
        "id": "x5LDgRoNkj3Y"
      },
      "execution_count": null,
      "outputs": []
    },
    {
      "cell_type": "markdown",
      "source": [
        "### Approach 3: Logistic Regression"
      ],
      "metadata": {
        "id": "evcsqh1HK2ce"
      }
    },
    {
      "cell_type": "code",
      "source": [
        "# Logistic Regression\n",
        "\n",
        "# create and train the Logistic Regression model\n",
        "logistic_regression_model = LogisticRegression()\n",
        "logistic_regression_model.fit(X_train, Y_train)\n",
        "# predictions on the training and test sets\n",
        "Y_train_pred = logistic_regression_model.predict(X_train)\n",
        "Y_test_pred = logistic_regression_model.predict(X_test)\n",
        "\n",
        "print('Logistic Regression Performance')\n",
        "print('------------------------------------------------------')\n",
        "\n",
        "# compute the accuracy of the model on the training set\n",
        "train_accuracy = round(accuracy_score(Y_train, Y_train_pred) * 100, 2)\n",
        "print('Training Accuracy: {:.2f}%'.format(train_accuracy))\n",
        "# compute the accuracy of the model on the test set\n",
        "test_accuracy = round(accuracy_score(Y_test, Y_test_pred) * 100, 2)\n",
        "print('Test Accuracy: {:.2f}%'.format(test_accuracy))\n",
        "\n",
        "# confusion matrix\n",
        "confusion_matrix_3 = pd.crosstab(Y_test, Y_test_pred, rownames=[\"Real\"], colnames=[\"Predict\"], margins=True)\n",
        "confusion_matrix_formatted_3 = confusion_matrix_3.copy()\n",
        "confusion_matrix_formatted_3.index = ['Actual ' + str(label) for label in confusion_matrix_3.index]\n",
        "confusion_matrix_formatted_3.columns = ['Predicted ' + str(label) for label in confusion_matrix_3.columns]\n",
        "print(\"\\nConfusion Matrix:\")\n",
        "print(confusion_matrix_formatted_3)"
      ],
      "metadata": {
        "id": "6qXWrKSxKyj2"
      },
      "execution_count": null,
      "outputs": []
    },
    {
      "cell_type": "code",
      "source": [
        "# Logistic Regression\n",
        "\n",
        "# Generate a classification report based on the predicted labels (Y_test_pred)\n",
        "# and the true labels (Y_test).\n",
        "report3 = classification_report(Y_test, Y_test_pred)\n",
        "print('Classification Report:')\n",
        "print(report3)\n",
        "\n",
        "confusion_matrix_value3 = pd.crosstab(Y_test, Y_test_pred)\n",
        "sns.heatmap(confusion_matrix_value3, annot=True, cmap=\"Greens\", fmt=\"d\")\n",
        "plt.xlabel(\"Predicted\")\n",
        "plt.ylabel(\"Actual\")\n",
        "plt.title(\"Confusion Matrix\")\n",
        "plt.show()"
      ],
      "metadata": {
        "id": "Y71rdiaoNHsn"
      },
      "execution_count": null,
      "outputs": []
    },
    {
      "cell_type": "code",
      "source": [
        "# Create learning curve and arrays to store scores, training sizes 10% - 100%\n",
        "train_sizes, train_scores, test_scores = learning_curve(logistic_regression_model, X_train, Y_train, train_sizes=np.linspace(0.1, 1.0, 10), cv=5)\n",
        "\n",
        "# Calculate/store mean scores and standard deviations\n",
        "train_scores_mean = np.mean(train_scores, axis=1)\n",
        "train_scores_std = np.std(train_scores, axis=1)\n",
        "test_scores_mean = np.mean(test_scores, axis=1)\n",
        "test_scores_std = np.std(test_scores, axis=1)\n",
        "\n",
        "# Plot learning curve\n",
        "plt.figure(figsize=(10, 6))\n",
        "# Plot training and validation scores\n",
        "plt.plot(train_sizes, train_scores_mean, 'o-', color=\"b\", label=\"Training score\")\n",
        "plt.plot(train_sizes, test_scores_mean, 'o-', color=\"r\", label=\"Validation score\")\n",
        "# Show variance of scores\n",
        "plt.fill_between(train_sizes, train_scores_mean - train_scores_std, train_scores_mean + train_scores_std, alpha=0.1, color=\"b\")\n",
        "plt.fill_between(train_sizes, test_scores_mean - test_scores_std, test_scores_mean + test_scores_std, alpha=0.1, color=\"r\")\n",
        "# Labels, legend and grid\n",
        "plt.xlabel(\"Training Set Size\")\n",
        "plt.ylabel(\"Accuracy\")\n",
        "plt.title(\"Logistic Regression Learning Curve\")\n",
        "plt.legend(loc=\"lower right\")\n",
        "plt.grid(True)\n",
        "plt.show()"
      ],
      "metadata": {
        "id": "D7QhjQzzmxoo"
      },
      "execution_count": null,
      "outputs": []
    },
    {
      "cell_type": "markdown",
      "source": [
        "### Approach 4: Decision Tree"
      ],
      "metadata": {
        "id": "Q-ZimzstOjPd"
      }
    },
    {
      "cell_type": "code",
      "source": [
        "# Decison Tree\n",
        "# hyperparameter tuning\n",
        "param_grid = {\n",
        "    'max_depth': [3, 5, 7],\n",
        "    'min_samples_split': [2, 5, 10],\n",
        "    'min_samples_leaf': [1, 2, 4],\n",
        "    'max_features': ['auto', 'sqrt', 'log2']\n",
        "}\n",
        "\n",
        "grid_search = GridSearchCV(DecisionTreeClassifier(), param_grid, cv=5)\n",
        "grid_search.fit(X_train, Y_train)\n",
        "best_params = grid_search.best_params_\n",
        "\n",
        "# check for the best hyperparameters\n",
        "decision_tree = DecisionTreeClassifier(\n",
        "    max_depth=best_params['max_depth'],\n",
        "    min_samples_split=best_params['min_samples_split'],\n",
        "    min_samples_leaf=best_params['min_samples_leaf'],\n",
        "    max_features=best_params['max_features']\n",
        ")\n",
        "\n",
        "decision_tree.fit(X_train, Y_train)\n",
        "# predictions on the training set\n",
        "Y_train_pred_dt = decision_tree.predict(X_train)\n",
        "# predictions on the test set\n",
        "Y_test_pred_dt = decision_tree.predict(X_test)\n",
        "\n",
        "print('Decision Tree Performance')\n",
        "print('------------------------------------------------------')\n",
        "\n",
        "train_accuracy = accuracy_score(Y_train, Y_train_pred_dt)\n",
        "print('Training Accuracy:', \"{:.2%}\".format(train_accuracy))\n",
        "test_accuracy = accuracy_score(Y_test, Y_test_pred_dt)\n",
        "print('Test Accuracy:', \"{:.2%}\".format(test_accuracy), \"\\n\")\n",
        "\n",
        "# output the best parameters from grid search\n",
        "print(\"Best hyperparameters found:\")\n",
        "for param, value in best_params.items():\n",
        "    print(f\"{param}: {value}\")\n",
        "\n",
        "# confusion matrix\n",
        "confusion_matrix_4 = pd.crosstab(Y_test, Y_test_pred_dt, rownames=[\"Real\"], colnames=[\"Predict\"], margins=True)\n",
        "confusion_matrix_formatted_4 = confusion_matrix_4.copy()\n",
        "confusion_matrix_formatted_4.index = ['Actual ' + str(label) for label in confusion_matrix_4.index]\n",
        "confusion_matrix_formatted_4.columns = ['Predicted ' + str(label) for label in confusion_matrix_4.columns]\n",
        "print(\"\\nConfusion Matrix:\")\n",
        "print(confusion_matrix_formatted_4)"
      ],
      "metadata": {
        "id": "pavRKcGBOiiH"
      },
      "execution_count": null,
      "outputs": []
    },
    {
      "cell_type": "code",
      "source": [
        "# Decision Tree\n",
        "\n",
        "# Generate a classification report based on the predicted labels (Y_test_pred_dt)\n",
        "# and the true labels (Y_test).\n",
        "report4 = classification_report(Y_test, Y_test_pred_dt)\n",
        "print('Classification Report:')\n",
        "print(report4)\n",
        "\n",
        "confusion_matrix_value4 = pd.crosstab(Y_test, Y_test_pred_dt)\n",
        "sns.heatmap(confusion_matrix_value4, annot=True, cmap=\"Purples\", fmt=\"d\")\n",
        "plt.xlabel(\"Predicted\")\n",
        "plt.ylabel(\"Actual\")\n",
        "plt.title(\"Confusion Matrix\")\n",
        "plt.show()"
      ],
      "metadata": {
        "id": "K6DOPvRkSqwU"
      },
      "execution_count": null,
      "outputs": []
    },
    {
      "cell_type": "code",
      "source": [
        "target = ['Outcome']\n",
        "\n",
        "# Convert X_train to a DataFrame\n",
        "X_train_df = pd.DataFrame(X_train, columns=df.columns[:-1])\n",
        "\n",
        "# Get unique class names from the target variable\n",
        "class_names = np.unique(Y_train).astype(str)\n",
        "\n",
        "dot_data = export_graphviz(decision_tree, precision=1,\n",
        "                           feature_names=X_train_df.columns,\n",
        "                           proportion=True,\n",
        "                           class_names=class_names,\n",
        "                           filled=True, rounded=True,\n",
        "                           special_characters=True)\n",
        "\n",
        "graph = graphviz.Source(dot_data)\n",
        "graph"
      ],
      "metadata": {
        "id": "dPisXMqpqaN6"
      },
      "execution_count": null,
      "outputs": []
    }
  ],
  "metadata": {
    "kernelspec": {
      "display_name": "Python 3 (ipykernel)",
      "language": "python",
      "name": "python3"
    },
    "language_info": {
      "codemirror_mode": {
        "name": "ipython",
        "version": 3
      },
      "file_extension": ".py",
      "mimetype": "text/x-python",
      "name": "python",
      "nbconvert_exporter": "python",
      "pygments_lexer": "ipython3",
      "version": "3.9.13"
    },
    "colab": {
      "provenance": [],
      "toc_visible": true
    }
  },
  "nbformat": 4,
  "nbformat_minor": 0
}