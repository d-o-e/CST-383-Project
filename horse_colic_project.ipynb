{
  "cells": [
    {
      "cell_type": "markdown",
      "metadata": {
        "id": "SkhPx1n5KG7i"
      },
      "source": [
        "## Predicting Horse Colic Survival: A Machine Learning Approach for Early Intervention\n",
        "### 6/7/23"
      ]
    },
    {
      "cell_type": "markdown",
      "metadata": {
        "id": "b8UtmgM6KG7l"
      },
      "source": [
        "X23 Group 15 Members:\n",
        "- Andrew Kassis\n",
        "- Christian Vargas\n",
        "- Deniz Erisgen\n",
        "- Tiffany Andersen"
      ]
    },
    {
      "cell_type": "code",
      "execution_count": null,
      "metadata": {
        "colab": {
          "base_uri": "https://localhost:8080/",
          "height": 326
        },
        "id": "U-hFq7atKG7l",
        "outputId": "a8742051-26fd-463d-f657-1d8eb55f5399"
      },
      "outputs": [],
      "source": [
        "from IPython.display import Image\n",
        "from IPython.core.display import HTML \n",
        "Image(url= \"https://www.animalclinicfortlupton.com/uploads/5/7/6/2/57623911/colicrxhorse-with-gi-diagram_orig.jpg\")\n",
        "# Animal Clinic, LLC \"Colic Diagnosis\" photo source  : https://www.animalclinicfortlupton.com/colic-diagnosis.html"
      ]
    },
    {
      "cell_type": "markdown",
      "metadata": {
        "id": "KGmXkAHfKG7m"
      },
      "source": [
        "Objective: To develop a predictive model capable of estimating the probability of survival for horses affected by colic. This project aims to provide valuable insights to veterinarians and horse owners, enabling them to make well-informed decisions regarding treatment options and care. Furthermore, the objective involves conducting an in-depth analysis to identify the most influential features or attributes for accurately predicting colic occurrences."
      ]
    },
    {
      "cell_type": "markdown",
      "metadata": {
        "id": "lqG8Gks7KG7m"
      },
      "source": [
        "### Initial Exploration"
      ]
    },
    {
      "cell_type": "code",
      "execution_count": null,
      "metadata": {
        "id": "wqavZz_GKG7n"
      },
      "outputs": [],
      "source": [
        "import warnings\n",
        "# Ignore the warning\n",
        "warnings.filterwarnings(\"ignore\")"
      ]
    },
    {
      "cell_type": "code",
      "execution_count": null,
      "metadata": {
        "id": "8fLpqRahKG7n"
      },
      "outputs": [],
      "source": [
        "import numpy as np\n",
        "import pandas as pd\n",
        "import matplotlib.pyplot as plt\n",
        "import seaborn as sns\n",
        "from sklearn.model_selection import train_test_split\n",
        "from sklearn.linear_model import LogisticRegression\n",
        "from sklearn.tree import DecisionTreeClassifier\n",
        "from sklearn.ensemble import RandomForestClassifier\n",
        "from sklearn.neighbors import KNeighborsClassifier"
      ]
    },
    {
      "cell_type": "code",
      "execution_count": null,
      "metadata": {
        "id": "wu08qOeMKG7n"
      },
      "outputs": [],
      "source": [
        "# Load the dataset and test dataset from the provided link\n",
        "url = 'https://raw.githubusercontent.com/c-vargas/horse_colic_data/main/horse_colic.csv'\n",
        "df = pd.read_csv(url)\n",
        "\n",
        "url2 = 'https://raw.githubusercontent.com/c-vargas/horse_colic_data/main/horse_test_data.csv'\n",
        "test = pd.read_csv(url2)"
      ]
    },
    {
      "cell_type": "code",
      "execution_count": null,
      "metadata": {
        "colab": {
          "base_uri": "https://localhost:8080/"
        },
        "id": "pYe5Br7HKG7n",
        "outputId": "ca797aa3-a4f3-4162-c9ee-e886e63d16b8"
      },
      "outputs": [],
      "source": [
        "# Check the size of the dataset\n",
        "data_size = df.shape\n",
        "print(\"Data Size:\", data_size)\n",
        "test_size = test.shape\n",
        "print(\"Test data Size:\", test_size)"
      ]
    },
    {
      "cell_type": "code",
      "execution_count": null,
      "metadata": {
        "colab": {
          "base_uri": "https://localhost:8080/"
        },
        "id": "0yV7kYpJLXAZ",
        "outputId": "5ed9ea3b-6e2b-49a4-aa6b-2e96700e555f"
      },
      "outputs": [],
      "source": [
        "print(df.head(10))"
      ]
    },
    {
      "cell_type": "code",
      "execution_count": null,
      "metadata": {
        "colab": {
          "base_uri": "https://localhost:8080/"
        },
        "id": "OSpJUXgTKG7o",
        "outputId": "a5e316d1-dbd9-4b3e-9034-3957255ad984"
      },
      "outputs": [],
      "source": [
        "print(df.dtypes.value_counts())"
      ]
    },
    {
      "cell_type": "code",
      "execution_count": null,
      "metadata": {
        "colab": {
          "base_uri": "https://localhost:8080/"
        },
        "id": "862_6aTEKG7o",
        "outputId": "aafced7e-d810-4a9d-d2f8-28d07a487904"
      },
      "outputs": [],
      "source": [
        "# Get the types of each column\n",
        "column_types = df.dtypes\n",
        "print(\"Column Types:\")\n",
        "print(column_types)"
      ]
    },
    {
      "cell_type": "code",
      "execution_count": null,
      "metadata": {
        "colab": {
          "base_uri": "https://localhost:8080/"
        },
        "id": "NupPUo-VKG7o",
        "outputId": "08e4f011-d6b8-4b63-bc21-a6b708e44fb4"
      },
      "outputs": [],
      "source": [
        "# Count the number of missing values in each column\n",
        "na_count = df.isnull().sum()\n",
        "print(\"NA Values:\")\n",
        "print(na_count)"
      ]
    },
    {
      "cell_type": "code",
      "execution_count": null,
      "metadata": {
        "colab": {
          "base_uri": "https://localhost:8080/",
          "height": 807
        },
        "id": "QHRunyiiLrH7",
        "outputId": "a6e47e92-5f32-4545-f406-2999cc4a7531"
      },
      "outputs": [],
      "source": [
        "# Bar chart to illustrate missing values per feature\n",
        "plt.figure(figsize=(10, 8))\n",
        "# Customize bar colors\n",
        "colors = ['red' if value == max(na_count) else 'gray' for value in na_count]\n",
        "plt.bar(range(len(na_count)), na_count, color=colors)\n",
        "plt.title('Missing Values per Feature', fontsize=16, fontweight='bold')\n",
        "plt.xlabel('Features', fontsize=12)\n",
        "plt.ylabel('Missing Values', fontsize=12)\n",
        "# Adjust the x-ticks properties\n",
        "plt.xticks(np.arange(len(df.columns)), df.columns.values, rotation='vertical', fontsize=10)\n",
        "# Adjust the y-ticks properties\n",
        "plt.yticks(fontsize=10)\n",
        "# Adding value labels to the bars\n",
        "for i, value in enumerate(na_count):\n",
        "    plt.text(i, value, str(value), ha='center', va='bottom', fontsize=10)\n",
        "\n",
        "# Adjust the spacing between subplots\n",
        "plt.tight_layout()\n",
        "plt.show()"
      ]
    },
    {
      "cell_type": "code",
      "execution_count": null,
      "metadata": {
        "colab": {
          "base_uri": "https://localhost:8080/",
          "height": 1000
        },
        "id": "am5Oq0UVNQR9",
        "outputId": "64515cce-3ee3-44a5-ddc7-0c67e8341e7b"
      },
      "outputs": [],
      "source": [
        "# Histogram representations of each column in the DataFrame\n",
        "fig, ax = plt.subplots(figsize=(16, 14))\n",
        "df.hist(ax=ax, color='steelblue', edgecolor='white', alpha=0.7)\n",
        "ax.grid(axis='y', linestyle='--', alpha=0.5)\n",
        "ax.spines['top'].set_visible(False)\n",
        "ax.spines['right'].set_visible(False)\n",
        "plt.xticks(fontsize=12)\n",
        "plt.yticks(fontsize=12)\n",
        "plt.show()"
      ]
    },
    {
      "cell_type": "code",
      "execution_count": null,
      "metadata": {
        "colab": {
          "base_uri": "https://localhost:8080/"
        },
        "id": "tVrH0-OZKG7p",
        "outputId": "be67e2e0-46d5-48ce-f370-9ed661a7fa12"
      },
      "outputs": [],
      "source": [
        "# Check the number of missing values (NA values)\n",
        "missing_values = df.isna().sum().sum()\n",
        "print(\"Number of missing values in the dataset:\", missing_values)"
      ]
    },
    {
      "cell_type": "code",
      "execution_count": null,
      "metadata": {
        "colab": {
          "base_uri": "https://localhost:8080/"
        },
        "id": "viNXH0lJKG7p",
        "outputId": "022bbc9a-ad5f-434c-a5b6-71927ec72900"
      },
      "outputs": [],
      "source": [
        "# Check for obviously bad data (e.g., outliers, unrealistic values)\n",
        "print(df.describe().to_string(float_format=\"{:.2f}\".format))"
      ]
    },
    {
      "cell_type": "code",
      "execution_count": null,
      "metadata": {
        "colab": {
          "base_uri": "https://localhost:8080/"
        },
        "id": "h_DaYdcZKG7p",
        "outputId": "1806f954-4c2c-4381-dd8d-f91d9ccb8c70"
      },
      "outputs": [],
      "source": [
        "# Additional information about the dataset\n",
        "df.info()"
      ]
    },
    {
      "cell_type": "code",
      "execution_count": null,
      "metadata": {
        "colab": {
          "base_uri": "https://localhost:8080/"
        },
        "id": "V9mAdY0oKG7p",
        "outputId": "5b0282c4-33ac-47b1-bb70-47dbba153442"
      },
      "outputs": [],
      "source": [
        "# Check the amount of data\n",
        "data_length = len(df)\n",
        "print(\"Number of instances in the dataset:\", data_length)"
      ]
    },
    {
      "cell_type": "markdown",
      "metadata": {
        "id": "6sTPICBgKG7q"
      },
      "source": [
        "### Initial preprocessing and cleaning"
      ]
    },
    {
      "cell_type": "code",
      "execution_count": null,
      "metadata": {
        "id": "pB33TFFQOShA"
      },
      "outputs": [],
      "source": [
        "# Delete unecessary columns\n",
        "df.drop(['hospital_number'], axis=1, inplace=True)"
      ]
    },
    {
      "cell_type": "code",
      "execution_count": null,
      "metadata": {
        "id": "VkfuA6eEKG7q"
      },
      "outputs": [],
      "source": [
        "# Remove columns that are useless or irrelevant\n",
        "# columns_to_drop = ['useless_column', 'irrelevant_column']\n",
        "# df = df.drop(columns_to_drop, axis=1)"
      ]
    },
    {
      "cell_type": "code",
      "execution_count": null,
      "metadata": {
        "colab": {
          "base_uri": "https://localhost:8080/"
        },
        "id": "NGtKjUsVKG7q",
        "outputId": "7f0ce165-6f60-4de0-bb46-2f0244b3f706"
      },
      "outputs": [],
      "source": [
        "# Percentage of missing data by column:\n",
        "missing_percentage = df.isnull().mean() * 100\n",
        "print(\"Missing Percentage:\")\n",
        "print(missing_percentage)"
      ]
    },
    {
      "cell_type": "code",
      "execution_count": null,
      "metadata": {
        "id": "kODS5B64KG7q"
      },
      "outputs": [],
      "source": [
        "# Remove columns with lots of missing data (threshold at 60%)\n",
        "threshold = 50\n",
        "columns_to_drop = df.columns[missing_percentage > threshold]\n",
        "df.drop(columns_to_drop, axis=1, inplace=True)"
      ]
    },
    {
      "cell_type": "code",
      "execution_count": null,
      "metadata": {
        "id": "Hn7eT-upKG7q"
      },
      "outputs": [],
      "source": [
        "# Remove other missing data:\n",
        "# df = df.dropna()  # Remove rows with any missing values"
      ]
    },
    {
      "cell_type": "code",
      "execution_count": null,
      "metadata": {
        "id": "iNOlp8pEOn0l"
      },
      "outputs": [],
      "source": []
    },
    {
      "cell_type": "markdown",
      "metadata": {
        "id": "5WR65Ny2Or37"
      },
      "source": [
        "### Exploration and Visualization"
      ]
    },
    {
      "cell_type": "code",
      "execution_count": null,
      "metadata": {
        "colab": {
          "base_uri": "https://localhost:8080/"
        },
        "id": "XzAunCuWlNm0",
        "outputId": "f93512ad-9e96-4860-9695-d18cba071ab2"
      },
      "outputs": [],
      "source": [
        "print(\"\\nCount values:\")\n",
        "print(df['outcome'].value_counts())"
      ]
    },
    {
      "cell_type": "code",
      "execution_count": null,
      "metadata": {
        "colab": {
          "base_uri": "https://localhost:8080/",
          "height": 601
        },
        "id": "MOz-O6TiKG7q",
        "outputId": "3ed8daa1-6fb9-4f3c-fd78-dc0ddef7d22e"
      },
      "outputs": [],
      "source": [
        "sns.set(style=\"darkgrid\")\n",
        "plt.figure(figsize=(10, 6))\n",
        "ax = sns.countplot(data=df, x='outcome')\n",
        "# Add count labels above each bar\n",
        "for p in ax.patches:\n",
        "    ax.annotate('{:.0f}'.format(p.get_height()), (p.get_x() + p.get_width() / 2., p.get_height()),\n",
        "                ha='center', va='center', xytext=(0, 10), textcoords='offset points', fontsize=12)\n",
        "\n",
        "plt.xlabel('Outcome', fontsize=14)\n",
        "plt.ylabel('Count', fontsize=14)\n",
        "plt.title('Outcome Distribution', fontsize=16)\n",
        "plt.ylim(0, 200)\n",
        "plt.xticks(fontsize=12)\n",
        "plt.yticks(fontsize=12)\n",
        "plt.tight_layout()\n",
        "plt.show()"
      ]
    },
    {
      "cell_type": "code",
      "execution_count": null,
      "metadata": {
        "colab": {
          "base_uri": "https://localhost:8080/"
        },
        "id": "Za4wbO58PXxF",
        "outputId": "959347a6-05b5-4462-ad9e-2dbac98a6ec7"
      },
      "outputs": [],
      "source": [
        "print(df.outcome.value_counts())"
      ]
    },
    {
      "cell_type": "code",
      "execution_count": null,
      "metadata": {
        "colab": {
          "base_uri": "https://localhost:8080/",
          "height": 593
        },
        "id": "sxRS-D17Ul29",
        "outputId": "bb9819d8-5cd6-4b9b-ecb6-62e4b89e038c"
      },
      "outputs": [],
      "source": [
        "# Figure showing that horses exhibiting the highest symptoms of extreme pain, severe pain, and depression ultimately died.\n",
        "sns.set(style=\"whitegrid\", font_scale=1.2)\n",
        "plt.figure(figsize=(10, 6))\n",
        "ax = sns.countplot(data=df, x='outcome', hue='pain', palette='colorblind')\n",
        "ax.set_xlabel('Outcome', fontsize=14)\n",
        "ax.set_ylabel('Count', fontsize=14)\n",
        "ax.set_title('Distribution of Outcomes by Pain', fontsize=16)\n",
        "ax.legend(title='Pain', loc='upper left')\n",
        "# Add value labels to the bars\n",
        "for p in ax.patches:\n",
        "    ax.annotate(f'{p.get_height()}', (p.get_x() + p.get_width() / 2, p.get_height()), ha='center',\n",
        "                va='bottom', fontsize=12, color='black')\n",
        "\n",
        "plt.tight_layout()\n",
        "plt.show()"
      ]
    },
    {
      "cell_type": "code",
      "execution_count": null,
      "metadata": {
        "colab": {
          "base_uri": "https://localhost:8080/",
          "height": 593
        },
        "id": "gRUJyMQ7KG7q",
        "outputId": "11786940-814e-4fce-db39-0ce55c20125a"
      },
      "outputs": [],
      "source": [
        "# Histograms of single numeric value (age of horse)\n",
        "plt.figure(figsize=(4, 6))\n",
        "plt.hist(df['age'], bins='auto', edgecolor='black')\n",
        "plt.xlabel('Age', fontsize=12)\n",
        "plt.ylabel('Frequency', fontsize=12)\n",
        "plt.title('Histogram of Age')\n",
        "plt.grid(True, linestyle='--', alpha=0.5)\n",
        "plt.xticks(fontsize=10)\n",
        "plt.yticks(fontsize=10)\n",
        "plt.tight_layout()\n",
        "plt.show()"
      ]
    },
    {
      "cell_type": "code",
      "execution_count": null,
      "metadata": {
        "colab": {
          "base_uri": "https://localhost:8080/",
          "height": 573
        },
        "id": "psv7Ms1rKG7r",
        "outputId": "2d46d16c-5fa6-4c66-c570-fe492a2e41a9"
      },
      "outputs": [],
      "source": [
        "# Bar plots of value counts of single categorical variable (surgery)\n",
        "sns.set(style='whitegrid')\n",
        "plt.figure(figsize=(8, 6))\n",
        "ax = sns.countplot(x='surgery', data=df, palette='dark')\n",
        "plt.xlabel('Surgery?')\n",
        "plt.ylabel('Count')\n",
        "plt.title('Number of Horses Requiring Surgery')\n",
        "plt.xticks([0, 1], ['No', 'Yes'])\n",
        "\n",
        "for p in ax.patches:\n",
        "    ax.annotate(f'{p.get_height()}', (p.get_x() + p.get_width() / 2, p.get_height()), ha='center', va='bottom')\n",
        "plt.show()"
      ]
    },
    {
      "cell_type": "code",
      "execution_count": null,
      "metadata": {
        "colab": {
          "base_uri": "https://localhost:8080/",
          "height": 439
        },
        "id": "5By_dOj1KG7r",
        "outputId": "bbd60da1-c8ef-4095-fab2-0cdfd14e53e5"
      },
      "outputs": [],
      "source": [
        "# Subplots indicating that horses that died had a pulse of around 70 bpm, while\n",
        "# horses that lived had the highest pulse count at approximately 40 bpm.\n",
        "sns.set(style=\"whitegrid\")\n",
        "facet_grid = sns.FacetGrid(data=test, col='outcome', margin_titles=True, height=4)\n",
        "facet_grid .map(plt.hist, 'pulse', bins=10, color='skyblue', edgecolor='white')\n",
        "plt.subplots_adjust(top=0.85)\n",
        "facet_grid.fig.suptitle('Outcome vs Pulse', fontsize=16, y=1.05)\n",
        "facet_grid.set_axis_labels('Pulse', 'Count')\n",
        "plt.show()"
      ]
    },
    {
      "cell_type": "code",
      "execution_count": null,
      "metadata": {
        "colab": {
          "base_uri": "https://localhost:8080/",
          "height": 481
        },
        "id": "YYJQccLZKG7r",
        "outputId": "ced49938-1cf6-4c64-c841-26dbf77a3502"
      },
      "outputs": [],
      "source": [
        "# Pivot table to count the occurrences of each peripheral pulse by outcome\n",
        "sns.set(style=\"whitegrid\")\n",
        "pivot_table = test.pivot_table(index='peripheral_pulse', columns='outcome', aggfunc='size', fill_value=0)\n",
        "# Reorder columns based on outcome categories\n",
        "pivot_table = pivot_table[['died', 'euthanized', 'lived']]\n",
        "ax = pivot_table.plot(kind='bar', stacked=True, color=['#E74C3C', '#F39C12', '#27AE60'])\n",
        "ax.set_title('Outcome by Peripheral Pulse')\n",
        "ax.set_xlabel('Peripheral Pulse')\n",
        "ax.set_ylabel('Count')\n",
        "plt.tight_layout()\n",
        "plt.show()"
      ]
    },
    {
      "cell_type": "code",
      "execution_count": null,
      "metadata": {
        "colab": {
          "base_uri": "https://localhost:8080/",
          "height": 498
        },
        "id": "mB8eefG6pNFx",
        "outputId": "c90ed880-933e-4987-9f6b-055780fdc576"
      },
      "outputs": [],
      "source": [
        "# Query the counts for horses that either died or were euthanized and also had\n",
        "# a reduced or absent peripheral pulse, as these two values indicate \n",
        "# poor perfusion. Additionally, cross-reference this data with capillary \n",
        "# refill time, as a longer refill time suggests poorer circulation.\n",
        "\n",
        "custom_color_palette = ['#d36135','#fac05e', '#33658a']\n",
        "\n",
        "# Filter the DataFrame based on conditions\n",
        "reduced_absent_pulse_df = df[\n",
        "    (df['outcome'].isin(['died', 'euthanized'])) &\n",
        "    (df['peripheral_pulse'].isin(['reduced', 'absent']))\n",
        "]\n",
        "\n",
        "sns.set_style(\"ticks\")\n",
        "\n",
        "capillary_refill_plot = sns.catplot(\n",
        "    data=reduced_absent_pulse_df,\n",
        "    x='capillary_refill_time',\n",
        "    col='outcome',\n",
        "    kind='count',\n",
        "    palette=custom_color_palette,\n",
        "    height=4,\n",
        "    aspect=1.2\n",
        ")\n",
        "\n",
        "capillary_refill_plot.set_titles('Outcome = {col_name}')\n",
        "capillary_refill_plot.set_xlabels('Capillary Refill Time')\n",
        "capillary_refill_plot.set_ylabels('Count')\n",
        "sns.despine()\n",
        "capillary_refill_plot.set_xticklabels(rotation=45)\n",
        "capillary_refill_plot.fig.suptitle('Distribution of Capillary Refill Time by Outcome', y=1.05, fontsize=16)\n",
        "capillary_refill_plot.axes.flat[0].grid(axis='y', linestyle=':', alpha=0.5)\n",
        "capillary_refill_plot.fig.subplots_adjust(top=0.8)\n",
        "plt.show()"
      ]
    }
  ],
  "metadata": {
    "colab": {
      "provenance": [],
      "toc_visible": true
    },
    "kernelspec": {
      "display_name": "Python 3 (ipykernel)",
      "language": "python",
      "name": "python3"
    },
    "language_info": {
      "codemirror_mode": {
        "name": "ipython",
        "version": 3
      },
      "file_extension": ".py",
      "mimetype": "text/x-python",
      "name": "python",
      "nbconvert_exporter": "python",
      "pygments_lexer": "ipython3",
      "version": "3.9.13"
    }
  },
  "nbformat": 4,
  "nbformat_minor": 0
}
